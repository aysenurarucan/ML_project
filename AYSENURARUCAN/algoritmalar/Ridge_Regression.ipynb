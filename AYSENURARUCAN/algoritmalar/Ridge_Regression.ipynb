{
 "cells": [
  {
   "cell_type": "code",
   "execution_count": 7,
   "id": "c48bdde9",
   "metadata": {},
   "outputs": [
    {
     "name": "stdout",
     "output_type": "stream",
     "text": [
      "0.17836161525051208\n"
     ]
    },
    {
     "data": {
      "text/plain": [
       "['C:\\\\Users\\\\Dell\\\\OneDrive\\\\Masaüstü\\\\mlodev\\\\ridge_model.pkl']"
      ]
     },
     "execution_count": 7,
     "metadata": {},
     "output_type": "execute_result"
    }
   ],
   "source": [
    "import numpy as np\n",
    "import matplotlib.pyplot as plt\n",
    "import pandas as pd\n",
    "from sklearn.model_selection import train_test_split\n",
    "from sklearn.linear_model import Ridge\n",
    "from sklearn.metrics import r2_score\n",
    "import joblib\n",
    "\n",
    "# Veri setini yükle\n",
    "dataset = pd.read_excel('C:\\\\Users\\\\Dell\\\\OneDrive\\\\Masaüstü\\\\mlodev\\\\tablet5.xlsx')\n",
    "\n",
    "# Bağımsız değişkenler (X) ve bağımlı değişken (y) ayırma\n",
    "X = dataset.iloc[:, 0:5].values\n",
    "y = dataset.iloc[:, 5].values\n",
    "y = y.reshape(-1, 1)\n",
    "\n",
    "# Veri setini eğitim ve test setlerine ayırma\n",
    "X_train, X_test, y_train, y_test = train_test_split(X, y, test_size=0.2, random_state=0)\n",
    "\n",
    "# Ridge Regresyon modelini oluşturma ve eğitme\n",
    "ridge_regressor = Ridge(alpha=1.0)  # alpha, düzenlileştirme parametresidir, isteğe bağlı olarak ayarlanabilir\n",
    "ridge_regressor.fit(X_train, y_train)\n",
    "y_pred_ridge = ridge_regressor.predict(X_test)\n",
    "\n",
    "# R^2 skoru hesaplama\n",
    "ridge_r2_score = r2_score(y_test, y_pred_ridge)\n",
    "print(ridge_r2_score)\n",
    "\n",
    "# Eğitilen modeli kaydetme\n",
    "joblib.dump(ridge_regressor, \"C:\\\\Users\\\\Dell\\\\OneDrive\\\\Masaüstü\\\\mlodev\\\\ridge_model.pkl\")\n"
   ]
  },
  {
   "cell_type": "code",
   "execution_count": null,
   "id": "090b2093",
   "metadata": {},
   "outputs": [],
   "source": []
  }
 ],
 "metadata": {
  "kernelspec": {
   "display_name": "Python 3 (ipykernel)",
   "language": "python",
   "name": "python3"
  },
  "language_info": {
   "codemirror_mode": {
    "name": "ipython",
    "version": 3
   },
   "file_extension": ".py",
   "mimetype": "text/x-python",
   "name": "python",
   "nbconvert_exporter": "python",
   "pygments_lexer": "ipython3",
   "version": "3.11.5"
  }
 },
 "nbformat": 4,
 "nbformat_minor": 5
}
