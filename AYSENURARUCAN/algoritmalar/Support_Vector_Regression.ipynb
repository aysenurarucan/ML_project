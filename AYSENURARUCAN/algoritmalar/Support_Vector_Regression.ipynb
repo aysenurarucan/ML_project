{
 "cells": [
  {
   "cell_type": "code",
   "execution_count": 6,
   "id": "05a83e83",
   "metadata": {},
   "outputs": [
    {
     "name": "stdout",
     "output_type": "stream",
     "text": [
      "0.6413254768213504\n"
     ]
    },
    {
     "data": {
      "text/plain": [
       "['C:\\\\Users\\\\Dell\\\\OneDrive\\\\Masaüstü\\\\mlodev\\\\svr_model.pkl']"
      ]
     },
     "execution_count": 6,
     "metadata": {},
     "output_type": "execute_result"
    }
   ],
   "source": [
    "import numpy as np\n",
    "import matplotlib.pyplot as plt\n",
    "import pandas as pd\n",
    "from sklearn.model_selection import train_test_split\n",
    "from sklearn.preprocessing import StandardScaler\n",
    "from sklearn.svm import SVR\n",
    "from sklearn.metrics import r2_score\n",
    "import joblib\n",
    "\n",
    "# Veriyi yükle\n",
    "dataset = pd.read_excel('C:\\\\Users\\\\Dell\\\\OneDrive\\\\Masaüstü\\\\mlodev\\\\tablet5.xlsx')\n",
    "\n",
    "# Bağımsız değişkenler (X) ve bağımlı değişken (y)\n",
    "X = dataset.iloc[:, 0:5].values\n",
    "y = dataset.iloc[:, 5].values\n",
    "y = y.reshape(-1, 1)\n",
    "\n",
    "# Veriyi eğitim ve test setlerine ayır\n",
    "X_train, X_test, y_train, y_test = train_test_split(X, y, test_size=0.2, random_state=0)\n",
    "\n",
    "# Verileri ölçeklendir\n",
    "sc_X = StandardScaler()\n",
    "sc_y = StandardScaler()\n",
    "\n",
    "X_train = sc_X.fit_transform(X_train)\n",
    "y_train = sc_y.fit_transform(y_train)\n",
    "\n",
    "# SVR modelini oluştur\n",
    "regressor = SVR(kernel='rbf')  # 'rbf' çekirdek tipi (Radial basis function kernel)\n",
    "regressor.fit(X_train, y_train.ravel())\n",
    "\n",
    "# Test setini tahmin et\n",
    "y_predSVR = regressor.predict(sc_X.transform(X_test))\n",
    "\n",
    "# R2 skoru hesapla\n",
    "SVR_RSCORE = r2_score(sc_y.transform(y_test), y_predSVR)\n",
    "\n",
    "print(SVR_RSCORE)\n",
    "\n",
    "# Modeli kaydet\n",
    "joblib.dump(regressor, \"C:\\\\Users\\\\Dell\\\\OneDrive\\\\Masaüstü\\\\mlodev\\\\svr_model.pkl\")\n"
   ]
  },
  {
   "cell_type": "code",
   "execution_count": null,
   "id": "3e9af8d1",
   "metadata": {},
   "outputs": [],
   "source": []
  }
 ],
 "metadata": {
  "kernelspec": {
   "display_name": "Python 3 (ipykernel)",
   "language": "python",
   "name": "python3"
  },
  "language_info": {
   "codemirror_mode": {
    "name": "ipython",
    "version": 3
   },
   "file_extension": ".py",
   "mimetype": "text/x-python",
   "name": "python",
   "nbconvert_exporter": "python",
   "pygments_lexer": "ipython3",
   "version": "3.11.5"
  }
 },
 "nbformat": 4,
 "nbformat_minor": 5
}
