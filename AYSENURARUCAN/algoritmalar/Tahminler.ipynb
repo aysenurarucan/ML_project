{
 "cells": [
  {
   "cell_type": "code",
   "execution_count": 129,
   "id": "e5de9370",
   "metadata": {},
   "outputs": [],
   "source": [
    "import pandas as pd\n",
    "import numpy as np\n",
    "import joblib"
   ]
  },
  {
   "cell_type": "code",
   "execution_count": 130,
   "id": "9a82f9dd",
   "metadata": {},
   "outputs": [],
   "source": [
    "dt_model = joblib.load(\"C:\\\\Users\\\\Dell\\\\OneDrive\\\\Masaüstü\\\\mlodev\\\\desicion_tree_model.pkl\")\n",
    "mlineer_model = joblib.load(\"C:\\\\Users\\\\Dell\\\\OneDrive\\\\Masaüstü\\\\mlodev\\\\multiple_linear_model.pkl\")\n",
    "rf_model = joblib.load(\"C:\\\\Users\\\\Dell\\\\OneDrive\\\\Masaüstü\\\\mlodev\\\\random_forest_regression_model.pkl\")\n",
    "ls_model = joblib.load(\"C:\\\\Users\\\\Dell\\\\OneDrive\\\\Masaüstü\\\\mlodev\\\\lasso_regression_model.pkl\")\n",
    "rg_model = joblib.load(\"C:\\\\Users\\\\Dell\\\\OneDrive\\\\Masaüstü\\\\mlodev\\\\ridge_model.pkl\")\n",
    "sv_model = joblib.load(\"C:\\\\Users\\\\Dell\\\\OneDrive\\\\Masaüstü\\\\mlodev\\\\svr_model.pkl\")\n",
    "\n",
    "gb_model = joblib.load(\"C:\\\\Users\\\\Dell\\\\OneDrive\\\\Masaüstü\\\\mlodev\\\\gradient_boosting_model.pkl\")                       "
   ]
  },
  {
   "cell_type": "code",
   "execution_count": 131,
   "id": "ee30d35f",
   "metadata": {},
   "outputs": [],
   "source": [
    "urller = pd.read_excel('C:\\\\Users\\\\Dell\\\\OneDrive\\\\Masaüstü\\\\mlodev\\\\tablet5.xlsx')"
   ]
  },
  {
   "cell_type": "code",
   "execution_count": 132,
   "id": "6dcc9d44",
   "metadata": {},
   "outputs": [
    {
     "data": {
      "text/html": [
       "<div>\n",
       "<style scoped>\n",
       "    .dataframe tbody tr th:only-of-type {\n",
       "        vertical-align: middle;\n",
       "    }\n",
       "\n",
       "    .dataframe tbody tr th {\n",
       "        vertical-align: top;\n",
       "    }\n",
       "\n",
       "    .dataframe thead th {\n",
       "        text-align: right;\n",
       "    }\n",
       "</style>\n",
       "<table border=\"1\" class=\"dataframe\">\n",
       "  <thead>\n",
       "    <tr style=\"text-align: right;\">\n",
       "      <th></th>\n",
       "      <th>url</th>\n",
       "      <th>Isletim_Sistemi</th>\n",
       "      <th>Islemci_Tipi</th>\n",
       "      <th>Cozunurluk</th>\n",
       "      <th>Bellek_Kapasitesi</th>\n",
       "      <th>Fiyat</th>\n",
       "    </tr>\n",
       "  </thead>\n",
       "  <tbody>\n",
       "    <tr>\n",
       "      <th>0</th>\n",
       "      <td>46</td>\n",
       "      <td>0</td>\n",
       "      <td>2</td>\n",
       "      <td>1</td>\n",
       "      <td>0</td>\n",
       "      <td>4160</td>\n",
       "    </tr>\n",
       "    <tr>\n",
       "      <th>1</th>\n",
       "      <td>47</td>\n",
       "      <td>2</td>\n",
       "      <td>6</td>\n",
       "      <td>8</td>\n",
       "      <td>0</td>\n",
       "      <td>3500</td>\n",
       "    </tr>\n",
       "    <tr>\n",
       "      <th>2</th>\n",
       "      <td>9</td>\n",
       "      <td>2</td>\n",
       "      <td>6</td>\n",
       "      <td>8</td>\n",
       "      <td>0</td>\n",
       "      <td>3800</td>\n",
       "    </tr>\n",
       "    <tr>\n",
       "      <th>3</th>\n",
       "      <td>59</td>\n",
       "      <td>0</td>\n",
       "      <td>3</td>\n",
       "      <td>2</td>\n",
       "      <td>1</td>\n",
       "      <td>2899</td>\n",
       "    </tr>\n",
       "    <tr>\n",
       "      <th>4</th>\n",
       "      <td>53</td>\n",
       "      <td>0</td>\n",
       "      <td>4</td>\n",
       "      <td>3</td>\n",
       "      <td>1</td>\n",
       "      <td>4400</td>\n",
       "    </tr>\n",
       "    <tr>\n",
       "      <th>...</th>\n",
       "      <td>...</td>\n",
       "      <td>...</td>\n",
       "      <td>...</td>\n",
       "      <td>...</td>\n",
       "      <td>...</td>\n",
       "      <td>...</td>\n",
       "    </tr>\n",
       "    <tr>\n",
       "      <th>931</th>\n",
       "      <td>2</td>\n",
       "      <td>2</td>\n",
       "      <td>6</td>\n",
       "      <td>8</td>\n",
       "      <td>3</td>\n",
       "      <td>4199</td>\n",
       "    </tr>\n",
       "    <tr>\n",
       "      <th>932</th>\n",
       "      <td>49</td>\n",
       "      <td>2</td>\n",
       "      <td>6</td>\n",
       "      <td>8</td>\n",
       "      <td>3</td>\n",
       "      <td>308675</td>\n",
       "    </tr>\n",
       "    <tr>\n",
       "      <th>933</th>\n",
       "      <td>62</td>\n",
       "      <td>2</td>\n",
       "      <td>6</td>\n",
       "      <td>8</td>\n",
       "      <td>3</td>\n",
       "      <td>4790</td>\n",
       "    </tr>\n",
       "    <tr>\n",
       "      <th>934</th>\n",
       "      <td>11</td>\n",
       "      <td>2</td>\n",
       "      <td>6</td>\n",
       "      <td>8</td>\n",
       "      <td>3</td>\n",
       "      <td>5299</td>\n",
       "    </tr>\n",
       "    <tr>\n",
       "      <th>935</th>\n",
       "      <td>57</td>\n",
       "      <td>2</td>\n",
       "      <td>6</td>\n",
       "      <td>8</td>\n",
       "      <td>3</td>\n",
       "      <td>2899</td>\n",
       "    </tr>\n",
       "  </tbody>\n",
       "</table>\n",
       "<p>936 rows × 6 columns</p>\n",
       "</div>"
      ],
      "text/plain": [
       "     url  Isletim_Sistemi  Islemci_Tipi  Cozunurluk  Bellek_Kapasitesi   Fiyat\n",
       "0     46                0             2           1                  0    4160\n",
       "1     47                2             6           8                  0    3500\n",
       "2      9                2             6           8                  0    3800\n",
       "3     59                0             3           2                  1    2899\n",
       "4     53                0             4           3                  1    4400\n",
       "..   ...              ...           ...         ...                ...     ...\n",
       "931    2                2             6           8                  3    4199\n",
       "932   49                2             6           8                  3  308675\n",
       "933   62                2             6           8                  3    4790\n",
       "934   11                2             6           8                  3    5299\n",
       "935   57                2             6           8                  3    2899\n",
       "\n",
       "[936 rows x 6 columns]"
      ]
     },
     "execution_count": 132,
     "metadata": {},
     "output_type": "execute_result"
    }
   ],
   "source": [
    "urller"
   ]
  },
  {
   "cell_type": "code",
   "execution_count": 133,
   "id": "33bd5bd3",
   "metadata": {},
   "outputs": [],
   "source": [
    "def url_index(url):\n",
    "    index = int(urller[urller[\"Urller\"]==url].index.values)\n",
    "    return index"
   ]
  },
  {
   "cell_type": "code",
   "execution_count": 134,
   "id": "9a8489c0",
   "metadata": {},
   "outputs": [],
   "source": [
    "def create_prediction_value(url,Isletim_Sistemi,Islemci_Tipi,Cozunurluk,Bellek_Kapasitesi):\n",
    "    res = pd.DataFrame(data = \n",
    "                       {'url':[url],'Isletim_Sistemi':[Isletim_Sistemi],'Islemci_Tipi':[Islemci_Tipi],\n",
    "                        'Cozunurluk':[Cozunurluk],'Bellek_Kapasitesi':[Bellek_Kapasitesi]})          \n",
    "    return res                  "
   ]
  },
  {
   "cell_type": "code",
   "execution_count": 135,
   "id": "11ecfd7d",
   "metadata": {},
   "outputs": [],
   "source": [
    "def Isletim_Sistemi (Isletim_Sistemi):\n",
    "    if Isletim_Sistemi == \"Android\":\n",
    "        return 1\n",
    "    else:\n",
    "        return 0"
   ]
  },
  {
   "cell_type": "code",
   "execution_count": 138,
   "id": "85c5ec65",
   "metadata": {},
   "outputs": [],
   "source": [
    "def predict_models(res):\n",
    "    print(\"Decision Tree Result : \" + str(int(dt_model.predict(res))).strip('[]')+ \"TL\")\n",
    "    print(\"Multiple Lineer Result : \" + str(int(mlineer_model.predict(res))).strip('[]')+ \"TL\")\n",
    "    print(\"Random Forest Result : \" + str(int(rf_model.predict(res))).strip('[]')+ \"TL\")\n",
    "    print(\"Lasso Result : \" + str(int(ls_model.predict(res))).strip('[]')+ \"TL\")\n",
    "    print(\"Ridge Result : \" + str(int(rg_model.predict(res))).strip('[]')+ \"TL\")\n",
    "    print(\"Support Vector Result : \" + str(int(sv_model.predict(res))).strip('[]')+ \"TL\")\n",
    "   \n",
    "    print(\"Gradient Boosting Result : \" + str(int(gb_model.predict(res))).strip('[]')+ \"TL\")\n",
    "    "
   ]
  },
  {
   "cell_type": "code",
   "execution_count": 139,
   "id": "69287857",
   "metadata": {},
   "outputs": [
    {
     "name": "stdout",
     "output_type": "stream",
     "text": [
      "Decision Tree Result : 2899TL\n",
      "Multiple Lineer Result : 318467TL\n",
      "Random Forest Result : 2899TL\n",
      "Lasso Result : 318467TL\n",
      "Ridge Result : 316763TL\n",
      "Support Vector Result : 0TL\n",
      "Gradient Boosting Result : 2955TL\n"
     ]
    },
    {
     "name": "stderr",
     "output_type": "stream",
     "text": [
      "C:\\ProgramData\\anaconda3\\Lib\\site-packages\\sklearn\\base.py:457: UserWarning: X has feature names, but DecisionTreeRegressor was fitted without feature names\n",
      "  warnings.warn(\n",
      "C:\\ProgramData\\anaconda3\\Lib\\site-packages\\sklearn\\base.py:457: UserWarning: X has feature names, but LinearRegression was fitted without feature names\n",
      "  warnings.warn(\n",
      "C:\\ProgramData\\anaconda3\\Lib\\site-packages\\sklearn\\base.py:457: UserWarning: X has feature names, but RandomForestRegressor was fitted without feature names\n",
      "  warnings.warn(\n",
      "C:\\ProgramData\\anaconda3\\Lib\\site-packages\\sklearn\\base.py:457: UserWarning: X has feature names, but Lasso was fitted without feature names\n",
      "  warnings.warn(\n",
      "C:\\ProgramData\\anaconda3\\Lib\\site-packages\\sklearn\\base.py:457: UserWarning: X has feature names, but Ridge was fitted without feature names\n",
      "  warnings.warn(\n",
      "C:\\ProgramData\\anaconda3\\Lib\\site-packages\\sklearn\\base.py:457: UserWarning: X has feature names, but SVR was fitted without feature names\n",
      "  warnings.warn(\n",
      "C:\\ProgramData\\anaconda3\\Lib\\site-packages\\sklearn\\base.py:457: UserWarning: X has feature names, but GradientBoostingRegressor was fitted without feature names\n",
      "  warnings.warn(\n"
     ]
    }
   ],
   "source": [
    "predict_value = create_prediction_value(59,0,3,2,1)\n",
    "predict_models(predict_value)"
   ]
  },
  {
   "cell_type": "code",
   "execution_count": null,
   "id": "35105d39",
   "metadata": {},
   "outputs": [],
   "source": []
  }
 ],
 "metadata": {
  "kernelspec": {
   "display_name": "Python 3 (ipykernel)",
   "language": "python",
   "name": "python3"
  },
  "language_info": {
   "codemirror_mode": {
    "name": "ipython",
    "version": 3
   },
   "file_extension": ".py",
   "mimetype": "text/x-python",
   "name": "python",
   "nbconvert_exporter": "python",
   "pygments_lexer": "ipython3",
   "version": "3.11.5"
  }
 },
 "nbformat": 4,
 "nbformat_minor": 5
}
